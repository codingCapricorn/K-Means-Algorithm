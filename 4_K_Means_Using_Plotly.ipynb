{
  "nbformat": 4,
  "nbformat_minor": 0,
  "metadata": {
    "colab": {
      "name": "4.K-Means_Using_Plotly.ipynb",
      "provenance": [],
      "collapsed_sections": [],
      "toc_visible": true,
      "authorship_tag": "ABX9TyNpCCBG8rL9KBbtPMyPxlTR",
      "include_colab_link": true
    },
    "kernelspec": {
      "name": "python3",
      "display_name": "Python 3"
    }
  },
  "cells": [
    {
      "cell_type": "markdown",
      "metadata": {
        "id": "view-in-github",
        "colab_type": "text"
      },
      "source": [
        "<a href=\"https://colab.research.google.com/github/codingCapricorn/K-Means-Algorithm/blob/master/4_K_Means_Using_Plotly.ipynb\" target=\"_parent\"><img src=\"https://colab.research.google.com/assets/colab-badge.svg\" alt=\"Open In Colab\"/></a>"
      ]
    },
    {
      "cell_type": "markdown",
      "metadata": {
        "id": "piipCmSvmH03",
        "colab_type": "text"
      },
      "source": [
        "# Implementation of K-Means algorithm from the scratch using Numpy, Pandas and Plotly ::::\n",
        "\n"
      ]
    },
    {
      "cell_type": "markdown",
      "metadata": {
        "id": "jNJMtbyqmY-R",
        "colab_type": "text"
      },
      "source": [
        "Data set that is taken here consists of 788 data points and have 7 shapes that can be identified visually.\n"
      ]
    },
    {
      "cell_type": "code",
      "metadata": {
        "id": "eNBtUIaQihqb",
        "colab_type": "code",
        "colab": {
          "base_uri": "https://localhost:8080/",
          "height": 374
        },
        "outputId": "80de2524-7856-4750-b3a9-5122c670b4fc"
      },
      "source": [
        "  \n",
        "import pandas as pd\n",
        "import numpy as np\n",
        "import plotly.offline as plt\n",
        "import plotly.graph_objs as go\n",
        "\n",
        "pd.set_option('display.max_columns', 10)\n",
        "\n",
        "\n",
        "def k_means_clustering(path, k):\n",
        "    data = pd.read_csv(path)\n",
        "    data = data[['V1', 'V2']]\n",
        "    k_means = (data.sample(k, replace=False))\n",
        "    k_means2 = pd.DataFrame()\n",
        "    clusters = pd.DataFrame()\n",
        "    print('Initial means:\\n', k_means)\n",
        "\n",
        "    while not k_means2.equals(k_means):\n",
        "\n",
        "        # distance matrix\n",
        "        cluster_count = 0\n",
        "        for idx, k_mean in k_means.iterrows():\n",
        "            clusters[cluster_count] = (data[k_means.columns] - np.array(k_mean)).pow(2).sum(1).pow(0.5)\n",
        "            cluster_count += 1\n",
        "\n",
        "        # update cluster\n",
        "        data['MDCluster'] = clusters.idxmin(axis=1)\n",
        "\n",
        "        # store previous cluster\n",
        "        k_means2 = k_means\n",
        "        k_means = pd.DataFrame()\n",
        "        k_means_frame = data.groupby('MDCluster').agg(np.mean)\n",
        "\n",
        "        k_means[k_means_frame.columns] = k_means_frame[k_means_frame.columns]\n",
        "\n",
        "        print(k_means.equals(k_means2))\n",
        "\n",
        "    # plotting\n",
        "    print('Plotting...')\n",
        "    data_graph = [go.Scatter(\n",
        "        x=data['V1'],\n",
        "        y=data['V2'].where(data['MDCluster'] == c),\n",
        "        mode='markers',\n",
        "        name='Cluster: ' + str(c)\n",
        "    ) for c in range(k)]\n",
        "\n",
        "    data_graph.append(\n",
        "        go.Scatter(\n",
        "            x=k_means['V1'],\n",
        "            y=k_means['V2'],\n",
        "            mode='markers',\n",
        "            marker=dict(\n",
        "                size=10,\n",
        "                color='#000000',\n",
        "            ),\n",
        "            name='Centroids of Clusters'\n",
        "        )\n",
        "    )\n",
        "\n",
        "    plt.plot(data_graph)\n",
        "    print('Check out -->> temp-plot.html....')\n",
        "    \n",
        "\n",
        "if __name__ == '__main__':\n",
        "    k_means_clustering(path='/content/k_means_clustering_test_1.csv', k=7)"
      ],
      "execution_count": 1,
      "outputs": [
        {
          "output_type": "stream",
          "text": [
            "Initial means:\n",
            "         V1     V2\n",
            "547  30.40  11.10\n",
            "173   9.70  12.10\n",
            "261  14.25   8.25\n",
            "271  10.60   5.05\n",
            "25   11.70  26.35\n",
            "67    5.35  24.70\n",
            "551  31.20  12.00\n",
            "False\n",
            "False\n",
            "False\n",
            "False\n",
            "False\n",
            "False\n",
            "False\n",
            "False\n",
            "False\n",
            "True\n",
            "Plotting...\n",
            "Check out -->> temp-plot.html....\n"
          ],
          "name": "stdout"
        }
      ]
    },
    {
      "cell_type": "markdown",
      "metadata": {
        "id": "uKOa7cKbrcS-",
        "colab_type": "text"
      },
      "source": [
        "###1.Check-out \"temp-plot.html\" once for \"k_means_clustering_test_1.csv\" file first. \n",
        "\n",
        "###2.Repeat the same for \"k_means_clustering_test_2.csv\""
      ]
    },
    {
      "cell_type": "code",
      "metadata": {
        "id": "OZIaUx_PkVrD",
        "colab_type": "code",
        "colab": {}
      },
      "source": [
        ""
      ],
      "execution_count": null,
      "outputs": []
    }
  ]
}